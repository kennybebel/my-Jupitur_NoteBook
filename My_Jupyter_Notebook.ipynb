{
 "cells": [
  {
   "cell_type": "markdown",
   "metadata": {},
   "source": [
    "<center>\n",
    "    <img src=\"https://cf-courses-data.s3.us.cloud-object-storage.appdomain.cloud/IBMDeveloperSkillsNetwork-DS0105EN-SkillsNetwork/labs/Module2/images/SN_web_lightmode.png\" width=\"300\" alt=\"cognitiveclass.ai logo\">\n",
    "</center>\n"
   ]
  },
  {
   "cell_type": "markdown",
   "metadata": {},
   "source": [
    "#### Add your code below following the instructions given in the course\n"
   ]
  },
  {
   "cell_type": "markdown",
   "metadata": {
    "tags": []
   },
   "source": [
    "# My Jupyter Notebook"
   ]
  },
  {
   "cell_type": "markdown",
   "metadata": {},
   "source": [
    "**Kenny Bebel**\n",
    "\n",
    "Data Scientist"
   ]
  },
  {
   "cell_type": "markdown",
   "metadata": {},
   "source": [
    "_I am interested in Data Science because I would love to contribute towards affordable and quality healthcare in the future_"
   ]
  },
  {
   "cell_type": "markdown",
   "metadata": {},
   "source": [
    "### Data Science Languages\n",
    "\n",
    "1. **Python**\n",
    "   - Description: Python is one of the most widely used programming languages in data science. It offers a rich ecosystem of libraries and frameworks like Pandas, NumPy, Matplotlib, Scikit-Learn, and more, making it a powerful tool for data analysis, machine learning, and scientific computing.\n",
    "\n",
    "2. **R**\n",
    "   - Description: R is a programming language specifically designed for statistical computing and data analysis. It provides a wide range of statistical and graphical techniques, and has a large community contributing to its packages and libraries.\n",
    "\n",
    "3. **SQL (Structured Query Language)**\n",
    "   - Description: SQL is a domain-specific language used for managing and querying relational databases. It's essential for data retrieval, manipulation, and aggregation in data science projects.\n",
    "\n",
    "4. **Julia**\n",
    "   - Description: Julia is a high-level, high-performance programming language for technical computing, with syntax that is familiar to users of other technical computing environments. It's gaining popularity in the data science community for its speed and versatility.\n",
    "\n",
    "5. **SAS**\n",
    "   - Description: SAS (Statistical Analysis System) is a software suite used for advanced analytics, business intelligence, and data management. It's widely used in industries like healthcare, finance, and market research.\n",
    "\n",
    "6. **Scala**\n",
    "   - Description: Scala is a general-purpose programming language that is often used in big data processing with tools like Apache Spark. It combines functional programming with object-oriented programming and is compatible with Java.\n",
    "\n",
    "7. **MATLAB**\n",
    "   - Description: MATLAB is a high-level programming language and interactive environment used for numerical computation, visualization, and algorithm development. It's often used in engineering and scientific research.\n",
    "\n",
    "8. **Java**\n",
    "   - Description: While not as common as Python or R in data science, Java is still used, especially in big data applications and for building enterprise-level solutions.\n",
    "\n",
    "9. **JavaScript**\n",
    "   - Description: JavaScript, along with libraries like D3.js and Plotly.js, is used for data visualization on the web. It's crucial for creating interactive and dynamic charts and dashboards.\n",
    "\n",
    "10. **Go (Golang)**\n",
    "    - Description: Go is a statically typed, compiled language that is increasingly used in data engineering tasks, especially for building high-performance and scalable systems.\n",
    "\n",
    "11. **Ruby**\n",
    "    - Description: Ruby, along with libraries like SciRuby, can be used for data analysis and visualization. It's known for its elegant syntax and is popular in web development.\n",
    "\n",
    "These are some of the prominent programming languages used in data science. The choice of language often depends on the specific requirements of a project, the preferences of the data scientist, and the existing tech stack of the organization.\n"
   ]
  },
  {
   "cell_type": "markdown",
   "metadata": {},
   "source": [
    "### Data Science Libraries\n",
    "\n",
    "1. **Python**\n",
    "   - **NumPy**: Fundamental package for numerical computations in Python.\n",
    "   - **Pandas**: Data manipulation and analysis library, providing data structures like DataFrames and Series.\n",
    "   - **Matplotlib**: Comprehensive library for creating static, animated, and interactive visualizations in Python.\n",
    "   - **Seaborn**: Statistical data visualization library based on Matplotlib, providing a high-level interface for drawing attractive and informative statistical graphics.\n",
    "   - **Scikit-Learn**: Simple and efficient tools for data analysis and modeling, including machine learning algorithms.\n",
    "\n",
    "2. **R**\n",
    "   - **dplyr**: A grammar of data manipulation for data wrangling tasks.\n",
    "   - **ggplot2**: A versatile and powerful visualization package for R.\n",
    "   - **tidyr**: Tools for tidying data, including the reshaping and transformation of datasets.\n",
    "\n",
    "3. **SQL (Structured Query Language)**\n",
    "   - **SQLite**: A C library that provides a lightweight disk-based database.\n",
    "   - **PostgreSQL**: A powerful, open-source relational database system.\n",
    "\n",
    "4. **Julia**\n",
    "   - **DataFrames.jl**: Provides tools for working with tabular data in Julia.\n",
    "   - **Plots.jl**: A powerful and flexible plotting package.\n",
    "\n",
    "\n",
    "\n",
    "These are some of the prominent libraries used in data science across various programming languages. The choice of library often depends on the specific requirements of a project and the language being used.\n"
   ]
  },
  {
   "cell_type": "markdown",
   "metadata": {},
   "source": [
    "### Data Science tools\n",
    "\n",
    "   - **NumPy**: Fundamental package for numerical computations in Python.\n",
    "   - **Pandas**: Data manipulation and analysis library, providing data structures like DataFrames and Series.\n",
    "   - **Matplotlib**: Comprehensive library for creating static, animated, and interactive visualizations in Python.\n",
    "   - **Seaborn**: Statistical data visualization library based on Matplotlib, providing a high-level interface for drawing attractive and informative statistical graphics.\n",
    "   - **Scikit-Learn**: Simple and efficient tools for data analysis and modeling, including machine learning algorithms.\n",
    "\n",
    "   - **dplyr**: A grammar of data manipulation for data wrangling tasks.\n",
    "   - **ggplot2**: A versatile and powerful visualization package for R.\n",
    "   - **tidyr**: Tools for tidying data, including the reshaping and transformation of datasets."
   ]
  },
  {
   "cell_type": "code",
   "execution_count": 1,
   "metadata": {},
   "outputs": [
    {
     "data": {
      "text/plain": [
       "100"
      ]
     },
     "execution_count": 1,
     "metadata": {},
     "output_type": "execute_result"
    }
   ],
   "source": [
    "(10+10)*5"
   ]
  },
  {
   "cell_type": "markdown",
   "metadata": {},
   "source": [
    "### The below should print 'Hello World'"
   ]
  },
  {
   "cell_type": "code",
   "execution_count": 9,
   "metadata": {
    "tags": []
   },
   "outputs": [
    {
     "name": "stdout",
     "output_type": "stream",
     "text": [
      "Hello World!\n"
     ]
    }
   ],
   "source": [
    "print(\"Hello World!\")"
   ]
  },
  {
   "cell_type": "code",
   "execution_count": 3,
   "metadata": {},
   "outputs": [
    {
     "data": {
      "text/plain": [
       "10"
      ]
     },
     "execution_count": 3,
     "metadata": {},
     "output_type": "execute_result"
    }
   ],
   "source": [
    "2+2*4"
   ]
  },
  {
   "cell_type": "code",
   "execution_count": 4,
   "metadata": {},
   "outputs": [
    {
     "name": "stdout",
     "output_type": "stream",
     "text": [
      "120 minutes is equal to 2.0 hours\n"
     ]
    }
   ],
   "source": [
    "def convert_minutes_to_hours(minutes):\n",
    "    hours = minutes / 60\n",
    "    return hours\n",
    "\n",
    "# Example Usage\n",
    "minutes = 120\n",
    "hours = convert_minutes_to_hours(minutes)\n",
    "print(f\"{minutes} minutes is equal to {hours} hours\")"
   ]
  }
 ],
 "metadata": {
  "kernelspec": {
   "display_name": "Python 3",
   "language": "python",
   "name": "python3"
  },
  "language_info": {
   "codemirror_mode": {
    "name": "ipython",
    "version": 3
   },
   "file_extension": ".py",
   "mimetype": "text/x-python",
   "name": "python",
   "nbconvert_exporter": "python",
   "pygments_lexer": "ipython3",
   "version": "3.11.4"
  }
 },
 "nbformat": 4,
 "nbformat_minor": 4
}
